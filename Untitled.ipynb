{
 "cells": [
  {
   "cell_type": "code",
   "execution_count": 13,
   "id": "74485835-6381-4ed0-a8f2-1880e22e0a63",
   "metadata": {},
   "outputs": [],
   "source": [
    "#!pip install yfinance\n",
    "import yfinance as yf\n",
    "\n",
    "from bs4 import BeautifulSoup\n",
    "import requests\n",
    "\n",
    "import pandas as pd\n",
    "pd.set_option('display.max_columns', None)\n",
    "pd.set_option('display.expand_frame_repr', False)\n",
    "\n",
    "%matplotlib inline\n",
    "import matplotlib.pyplot as plt\n",
    "plt.rc('figure', figsize = (5, 5))\n",
    "\n",
    "import time\n",
    "from datetime import datetime, timedelta\n",
    "from IPython.display import clear_output\n",
    "\n",
    "global df_bitcoin, df_bitcoin_limpio, precio_actual, tendencia, media_bitcoin, algoritmo_decision, color"
   ]
  },
  {
   "cell_type": "code",
   "execution_count": 7,
   "id": "4584ba10-f210-474d-8bbd-0ac27df48a21",
   "metadata": {},
   "outputs": [
    {
     "name": "stdout",
     "output_type": "stream",
     "text": [
      "Python 3.12.5\n",
      "Version: 2.2.2\n",
      "Version: 1.26.4\n",
      "Version 3.1, 31 March 2009\n",
      "                       Version 3, 29 June 2007\n",
      "  5. Conveying Modified Source Versions.\n",
      "  14. Revised Versions of this License.\n",
      "Version: 3.9.2\n"
     ]
    }
   ],
   "source": [
    "!python --version\n",
    "!pip show pandas | findstr Version\n",
    "!pip show numpy | findstr Version\n",
    "!pip show matplotlib | findstr Version\n"
   ]
  },
  {
   "cell_type": "code",
   "execution_count": 9,
   "id": "2d75dc85-8ef9-41be-aa65-e3cff6599f4e",
   "metadata": {},
   "outputs": [],
   "source": [
    "def importar_base_bitcoin():\n",
    "  global df_bitcoin, df_bitcoin_limpio, precio_actual, tendencia, media_bitcoin, algoritmo_decision, color\n",
    "  df_bitcoin = yf.Ticker(\"BTC-USD\").history(period = \"7d\", interval = \"5m\")"
   ]
  },
  {
   "cell_type": "code",
   "execution_count": 10,
   "id": "5e8a8164-3988-4260-9a86-95c6cdfd6817",
   "metadata": {},
   "outputs": [
    {
     "name": "stderr",
     "output_type": "stream",
     "text": [
      "BTC-USD: Period '7d' is invalid, must be one of ['1d', '5d', '1mo', '3mo', '6mo', '1y', '2y', '5y', '10y', 'ytd', 'max']\n"
     ]
    },
    {
     "data": {
      "text/html": [
       "<div>\n",
       "<style scoped>\n",
       "    .dataframe tbody tr th:only-of-type {\n",
       "        vertical-align: middle;\n",
       "    }\n",
       "\n",
       "    .dataframe tbody tr th {\n",
       "        vertical-align: top;\n",
       "    }\n",
       "\n",
       "    .dataframe thead th {\n",
       "        text-align: right;\n",
       "    }\n",
       "</style>\n",
       "<table border=\"1\" class=\"dataframe\">\n",
       "  <thead>\n",
       "    <tr style=\"text-align: right;\">\n",
       "      <th></th>\n",
       "      <th>Open</th>\n",
       "      <th>High</th>\n",
       "      <th>Low</th>\n",
       "      <th>Close</th>\n",
       "      <th>Adj Close</th>\n",
       "      <th>Volume</th>\n",
       "    </tr>\n",
       "    <tr>\n",
       "      <th>Date</th>\n",
       "      <th></th>\n",
       "      <th></th>\n",
       "      <th></th>\n",
       "      <th></th>\n",
       "      <th></th>\n",
       "      <th></th>\n",
       "    </tr>\n",
       "  </thead>\n",
       "  <tbody>\n",
       "  </tbody>\n",
       "</table>\n",
       "</div>"
      ],
      "text/plain": [
       "Empty DataFrame\n",
       "Columns: [Open, High, Low, Close, Adj Close, Volume]\n",
       "Index: []"
      ]
     },
     "execution_count": 10,
     "metadata": {},
     "output_type": "execute_result"
    }
   ],
   "source": [
    "#Muestra de la base histórica de precios del Bitcoin\n",
    "importar_base_bitcoin()\n",
    "df_bitcoin.head()"
   ]
  },
  {
   "cell_type": "code",
   "execution_count": 18,
   "id": "5289a0d6-ba17-4b22-85e8-8203cdba3f82",
   "metadata": {},
   "outputs": [],
   "source": [
    "def importar_base_bitcoin():\n",
    "    end_date = datetime.now()\n",
    "    start_date = end_date - timedelta(days=7)\n",
    "\n",
    "    # Descargar datos de Bitcoin usando yfinance\n",
    "    global df_bitcoin\n",
    "    df_bitcoin = yf.download(\"BTC-USD\", start=start_date, end=end_date, interval=\"5m\")\n",
    "    \n",
    "    # Verificar si se descargaron los datos\n",
    "    if df_bitcoin.empty:\n",
    "        print(\"No se descargaron datos. Verifica el rango de fechas o la conexión a internet.\")\n",
    "    else:\n",
    "        print(\"Datos descargados correctamente.\")\n",
    "    "
   ]
  },
  {
   "cell_type": "code",
   "execution_count": 19,
   "id": "34ad8b5a-4497-4851-b8f0-515f5a426847",
   "metadata": {},
   "outputs": [
    {
     "name": "stderr",
     "output_type": "stream",
     "text": [
      "[*********************100%***********************]  1 of 1 completed"
     ]
    },
    {
     "name": "stdout",
     "output_type": "stream",
     "text": [
      "Datos descargados correctamente.\n"
     ]
    },
    {
     "name": "stderr",
     "output_type": "stream",
     "text": [
      "\n"
     ]
    },
    {
     "data": {
      "text/plain": [
       "(2017, 6)"
      ]
     },
     "execution_count": 19,
     "metadata": {},
     "output_type": "execute_result"
    }
   ],
   "source": [
    "importar_base_bitcoin()\n",
    "df_bitcoin.shape"
   ]
  },
  {
   "cell_type": "code",
   "execution_count": 20,
   "id": "00de5c9d-1200-4ce2-bed9-3e8909a5b37f",
   "metadata": {},
   "outputs": [
    {
     "data": {
      "text/html": [
       "<div>\n",
       "<style scoped>\n",
       "    .dataframe tbody tr th:only-of-type {\n",
       "        vertical-align: middle;\n",
       "    }\n",
       "\n",
       "    .dataframe tbody tr th {\n",
       "        vertical-align: top;\n",
       "    }\n",
       "\n",
       "    .dataframe thead th {\n",
       "        text-align: right;\n",
       "    }\n",
       "</style>\n",
       "<table border=\"1\" class=\"dataframe\">\n",
       "  <thead>\n",
       "    <tr style=\"text-align: right;\">\n",
       "      <th></th>\n",
       "      <th>Open</th>\n",
       "      <th>High</th>\n",
       "      <th>Low</th>\n",
       "      <th>Close</th>\n",
       "      <th>Adj Close</th>\n",
       "      <th>Volume</th>\n",
       "    </tr>\n",
       "    <tr>\n",
       "      <th>Datetime</th>\n",
       "      <th></th>\n",
       "      <th></th>\n",
       "      <th></th>\n",
       "      <th></th>\n",
       "      <th></th>\n",
       "      <th></th>\n",
       "    </tr>\n",
       "  </thead>\n",
       "  <tbody>\n",
       "    <tr>\n",
       "      <th>2024-09-09 19:15:00+00:00</th>\n",
       "      <td>56655.679688</td>\n",
       "      <td>56750.257812</td>\n",
       "      <td>56655.679688</td>\n",
       "      <td>56736.898438</td>\n",
       "      <td>56736.898438</td>\n",
       "      <td>0</td>\n",
       "    </tr>\n",
       "    <tr>\n",
       "      <th>2024-09-09 19:20:00+00:00</th>\n",
       "      <td>56769.171875</td>\n",
       "      <td>56769.171875</td>\n",
       "      <td>56688.953125</td>\n",
       "      <td>56698.210938</td>\n",
       "      <td>56698.210938</td>\n",
       "      <td>152567808</td>\n",
       "    </tr>\n",
       "    <tr>\n",
       "      <th>2024-09-09 19:25:00+00:00</th>\n",
       "      <td>56719.710938</td>\n",
       "      <td>56879.871094</td>\n",
       "      <td>56719.710938</td>\n",
       "      <td>56879.871094</td>\n",
       "      <td>56879.871094</td>\n",
       "      <td>110723072</td>\n",
       "    </tr>\n",
       "    <tr>\n",
       "      <th>2024-09-09 19:30:00+00:00</th>\n",
       "      <td>56881.140625</td>\n",
       "      <td>56893.625000</td>\n",
       "      <td>56853.933594</td>\n",
       "      <td>56893.625000</td>\n",
       "      <td>56893.625000</td>\n",
       "      <td>125315072</td>\n",
       "    </tr>\n",
       "    <tr>\n",
       "      <th>2024-09-09 19:35:00+00:00</th>\n",
       "      <td>56855.238281</td>\n",
       "      <td>56982.390625</td>\n",
       "      <td>56837.949219</td>\n",
       "      <td>56837.949219</td>\n",
       "      <td>56837.949219</td>\n",
       "      <td>161579008</td>\n",
       "    </tr>\n",
       "  </tbody>\n",
       "</table>\n",
       "</div>"
      ],
      "text/plain": [
       "                                   Open          High           Low         Close     Adj Close     Volume\n",
       "Datetime                                                                                                  \n",
       "2024-09-09 19:15:00+00:00  56655.679688  56750.257812  56655.679688  56736.898438  56736.898438          0\n",
       "2024-09-09 19:20:00+00:00  56769.171875  56769.171875  56688.953125  56698.210938  56698.210938  152567808\n",
       "2024-09-09 19:25:00+00:00  56719.710938  56879.871094  56719.710938  56879.871094  56879.871094  110723072\n",
       "2024-09-09 19:30:00+00:00  56881.140625  56893.625000  56853.933594  56893.625000  56893.625000  125315072\n",
       "2024-09-09 19:35:00+00:00  56855.238281  56982.390625  56837.949219  56837.949219  56837.949219  161579008"
      ]
     },
     "execution_count": 20,
     "metadata": {},
     "output_type": "execute_result"
    }
   ],
   "source": [
    "df_bitcoin.head()"
   ]
  },
  {
   "cell_type": "code",
   "execution_count": null,
   "id": "e55e08cb-d68b-4dae-9fd7-c4ce6d60a9f6",
   "metadata": {},
   "outputs": [],
   "source": [
    "#@title\n",
    "def extraer_tendencias():\n",
    "  global df_bitcoin, df_bitcoin_limpio, precio_actual, tendencia, media_bitcoin, algoritmo_decision, color\n",
    "  headers = {'User-Agent': 'Mozilla/5.0 (Macintosh; Intel Mac OS X 10_15_7) AppleWebKit/537.36 (KHTML, like Gecko) Chrome/111.0.0.0 Safari/537.36'}\n",
    "  url = 'https://coinmarketcap.com'\n",
    "  respuesta = requests.get(url, headers=headers)\n",
    "  s = BeautifulSoup(respuesta.content, features='lxml')\n",
    "  respuesta = s.findAll('p', {'class':'sc-4984dd93-0 iqdbQL coin-item-symbol'})\n",
    "  indice=0\n",
    "  for item in respuesta:\n",
    "    if item.getText()=='BTC':\n",
    "      break\n",
    "    indice+=1\n",
    "\n",
    "  respuesta = s.findAll('div', {'class':['sc-cadad039-0 clgqXO','sc-cadad039-0 clgqXO fall','sc-cadad039-0 clgqXO rise']})\n",
    "  precio_actual=float(respuesta[indice].getText().replace('$','').replace(',',''))\n",
    "\n",
    "  lista = []\n",
    "  respuesta = s.findAll('span', {'class':['sc-97d6d2ca-0 cYiHal','sc-97d6d2ca-0 bQjSqS']})\n",
    "  for item in respuesta[::3]:\n",
    "    lista.append(item)\n",
    "\n",
    "  tendencia = ''\n",
    "  if lista[indice].find('span')['class'][0] == 'icon-Caret-down':\n",
    "    tendencia = 'baja'\n",
    "  else:\n",
    "    tendencia = 'alta'"
   ]
  }
 ],
 "metadata": {
  "kernelspec": {
   "display_name": "Python 3 (ipykernel)",
   "language": "python",
   "name": "python3"
  },
  "language_info": {
   "codemirror_mode": {
    "name": "ipython",
    "version": 3
   },
   "file_extension": ".py",
   "mimetype": "text/x-python",
   "name": "python",
   "nbconvert_exporter": "python",
   "pygments_lexer": "ipython3",
   "version": "3.12.5"
  }
 },
 "nbformat": 4,
 "nbformat_minor": 5
}
