{
 "cells": [
  {
   "cell_type": "code",
   "execution_count": 1,
   "id": "74485835-6381-4ed0-a8f2-1880e22e0a63",
   "metadata": {},
   "outputs": [],
   "source": [
    "#!pip install yfinance\n",
    "import yfinance as yf\n",
    "\n",
    "from bs4 import BeautifulSoup\n",
    "import requests\n",
    "\n",
    "import pandas as pd\n",
    "pd.set_option('display.max_columns', None)\n",
    "pd.set_option('display.expand_frame_repr', False)\n",
    "\n",
    "%matplotlib inline\n",
    "import matplotlib.pyplot as plt\n",
    "plt.rc('figure', figsize = (5, 5))\n",
    "\n",
    "import time\n",
    "from datetime import datetime, timedelta\n",
    "from IPython.display import clear_output\n",
    "\n",
    "global df_bitcoin, df_bitcoin_limpio, precio_actual, tendencia, media_bitcoin, algoritmo_decision, color"
   ]
  },
  {
   "cell_type": "code",
   "execution_count": 2,
   "id": "4584ba10-f210-474d-8bbd-0ac27df48a21",
   "metadata": {},
   "outputs": [
    {
     "name": "stdout",
     "output_type": "stream",
     "text": [
      "Python 3.12.5\n",
      "Version: 2.2.2\n",
      "Version: 1.26.4\n",
      "Version 3.1, 31 March 2009\n",
      "                       Version 3, 29 June 2007\n",
      "  5. Conveying Modified Source Versions.\n",
      "  14. Revised Versions of this License.\n",
      "Version: 3.9.2\n"
     ]
    }
   ],
   "source": [
    "!python --version\n",
    "!pip show pandas | findstr Version\n",
    "!pip show numpy | findstr Version\n",
    "!pip show matplotlib | findstr Version\n"
   ]
  },
  {
   "cell_type": "markdown",
   "id": "a3d8160e-cb9f-45f7-be4a-d12f4c51b8f6",
   "metadata": {},
   "source": [
    "## IMPORTAR BASE DE DATOS HISTORICOS DE BITCOIN"
   ]
  },
  {
   "cell_type": "code",
   "execution_count": 5,
   "id": "5289a0d6-ba17-4b22-85e8-8203cdba3f82",
   "metadata": {},
   "outputs": [],
   "source": [
    "def importar_base_bitcoin():\n",
    "    end_date = datetime.now()\n",
    "    start_date = end_date - timedelta(days=7)\n",
    "\n",
    "    # Descargar datos de Bitcoin usando yfinance\n",
    "    global df_bitcoin\n",
    "    df_bitcoin = yf.download(\"BTC-USD\", start=start_date, end=end_date, interval=\"5m\")\n",
    "    \n",
    "    # Verificar si se descargaron los datos\n",
    "    if df_bitcoin.empty:\n",
    "        print(\"No se descargaron datos. Verifica el rango de fechas o la conexión a internet.\")\n",
    "    else:\n",
    "        print(\"Datos descargados correctamente.\")\n",
    "    "
   ]
  },
  {
   "cell_type": "markdown",
   "id": "5b787c87-9580-4044-bbec-7d77e1566960",
   "metadata": {},
   "source": [
    "### Verificar datos"
   ]
  },
  {
   "cell_type": "code",
   "execution_count": 6,
   "id": "34ad8b5a-4497-4851-b8f0-515f5a426847",
   "metadata": {},
   "outputs": [
    {
     "name": "stderr",
     "output_type": "stream",
     "text": [
      "[*********************100%***********************]  1 of 1 completed"
     ]
    },
    {
     "name": "stdout",
     "output_type": "stream",
     "text": [
      "Datos descargados correctamente.\n"
     ]
    },
    {
     "name": "stderr",
     "output_type": "stream",
     "text": [
      "\n"
     ]
    },
    {
     "data": {
      "text/plain": [
       "(2016, 6)"
      ]
     },
     "execution_count": 6,
     "metadata": {},
     "output_type": "execute_result"
    }
   ],
   "source": [
    "importar_base_bitcoin()\n",
    "df_bitcoin.shape"
   ]
  },
  {
   "cell_type": "code",
   "execution_count": 7,
   "id": "00de5c9d-1200-4ce2-bed9-3e8909a5b37f",
   "metadata": {},
   "outputs": [
    {
     "data": {
      "text/html": [
       "<div>\n",
       "<style scoped>\n",
       "    .dataframe tbody tr th:only-of-type {\n",
       "        vertical-align: middle;\n",
       "    }\n",
       "\n",
       "    .dataframe tbody tr th {\n",
       "        vertical-align: top;\n",
       "    }\n",
       "\n",
       "    .dataframe thead th {\n",
       "        text-align: right;\n",
       "    }\n",
       "</style>\n",
       "<table border=\"1\" class=\"dataframe\">\n",
       "  <thead>\n",
       "    <tr style=\"text-align: right;\">\n",
       "      <th></th>\n",
       "      <th>Open</th>\n",
       "      <th>High</th>\n",
       "      <th>Low</th>\n",
       "      <th>Close</th>\n",
       "      <th>Adj Close</th>\n",
       "      <th>Volume</th>\n",
       "    </tr>\n",
       "    <tr>\n",
       "      <th>Datetime</th>\n",
       "      <th></th>\n",
       "      <th></th>\n",
       "      <th></th>\n",
       "      <th></th>\n",
       "      <th></th>\n",
       "      <th></th>\n",
       "    </tr>\n",
       "  </thead>\n",
       "  <tbody>\n",
       "    <tr>\n",
       "      <th>2024-09-15 00:25:00+00:00</th>\n",
       "      <td>60066.781250</td>\n",
       "      <td>60078.304688</td>\n",
       "      <td>60066.425781</td>\n",
       "      <td>60078.304688</td>\n",
       "      <td>60078.304688</td>\n",
       "      <td>0</td>\n",
       "    </tr>\n",
       "    <tr>\n",
       "      <th>2024-09-15 00:30:00+00:00</th>\n",
       "      <td>60083.652344</td>\n",
       "      <td>60083.652344</td>\n",
       "      <td>60074.753906</td>\n",
       "      <td>60074.878906</td>\n",
       "      <td>60074.878906</td>\n",
       "      <td>0</td>\n",
       "    </tr>\n",
       "    <tr>\n",
       "      <th>2024-09-15 00:35:00+00:00</th>\n",
       "      <td>60071.429688</td>\n",
       "      <td>60083.945312</td>\n",
       "      <td>60071.429688</td>\n",
       "      <td>60080.835938</td>\n",
       "      <td>60080.835938</td>\n",
       "      <td>0</td>\n",
       "    </tr>\n",
       "    <tr>\n",
       "      <th>2024-09-15 00:40:00+00:00</th>\n",
       "      <td>60078.062500</td>\n",
       "      <td>60104.746094</td>\n",
       "      <td>60078.062500</td>\n",
       "      <td>60104.746094</td>\n",
       "      <td>60104.746094</td>\n",
       "      <td>0</td>\n",
       "    </tr>\n",
       "    <tr>\n",
       "      <th>2024-09-15 00:45:00+00:00</th>\n",
       "      <td>60109.015625</td>\n",
       "      <td>60115.078125</td>\n",
       "      <td>60103.714844</td>\n",
       "      <td>60115.078125</td>\n",
       "      <td>60115.078125</td>\n",
       "      <td>0</td>\n",
       "    </tr>\n",
       "  </tbody>\n",
       "</table>\n",
       "</div>"
      ],
      "text/plain": [
       "                                   Open          High           Low         Close     Adj Close  Volume\n",
       "Datetime                                                                                               \n",
       "2024-09-15 00:25:00+00:00  60066.781250  60078.304688  60066.425781  60078.304688  60078.304688       0\n",
       "2024-09-15 00:30:00+00:00  60083.652344  60083.652344  60074.753906  60074.878906  60074.878906       0\n",
       "2024-09-15 00:35:00+00:00  60071.429688  60083.945312  60071.429688  60080.835938  60080.835938       0\n",
       "2024-09-15 00:40:00+00:00  60078.062500  60104.746094  60078.062500  60104.746094  60104.746094       0\n",
       "2024-09-15 00:45:00+00:00  60109.015625  60115.078125  60103.714844  60115.078125  60115.078125       0"
      ]
     },
     "execution_count": 7,
     "metadata": {},
     "output_type": "execute_result"
    }
   ],
   "source": [
    "df_bitcoin.head()"
   ]
  },
  {
   "cell_type": "markdown",
   "id": "9e612d30-704d-4943-bb19-96e3beb87f9c",
   "metadata": {},
   "source": [
    "## Extraer datos por scraping de coin marketcap"
   ]
  },
  {
   "cell_type": "code",
   "execution_count": null,
   "id": "e55e08cb-d68b-4dae-9fd7-c4ce6d60a9f6",
   "metadata": {},
   "outputs": [],
   "source": [
    "#@title\n",
    "def extraer_tendencias():\n",
    "  global df_bitcoin, df_bitcoin_limpio, precio_actual, tendencia, media_bitcoin, algoritmo_decision, color\n",
    "  headers = {'User-Agent': 'Mozilla/5.0 (Macintosh; Intel Mac OS X 10_15_7) AppleWebKit/537.36 (KHTML, like Gecko) Chrome/111.0.0.0 Safari/537.36'}\n",
    "  url = 'https://coinmarketcap.com'\n",
    "  respuesta = requests.get(url, headers=headers)\n",
    "  s = BeautifulSoup(respuesta.content, features='lxml')\n",
    "  respuesta = s.findAll('p', {'class':'sc-4984dd93-0 iqdbQL coin-item-symbol'})\n",
    "  indice=0\n",
    "  for item in respuesta:\n",
    "    if item.getText()=='BTC':\n",
    "      break\n",
    "    indice+=1\n",
    "\n",
    "  respuesta = s.findAll('div', {'class':['sc-cadad039-0 clgqXO','sc-cadad039-0 clgqXO fall','sc-cadad039-0 clgqXO rise']})\n",
    "  precio_actual=float(respuesta[indice].getText().replace('$','').replace(',',''))\n",
    "\n",
    "  lista = []\n",
    "  respuesta = s.findAll('span', {'class':['sc-97d6d2ca-0 cYiHal','sc-97d6d2ca-0 bQjSqS']})\n",
    "  for item in respuesta[::3]:\n",
    "    lista.append(item)\n",
    "\n",
    "  tendencia = ''\n",
    "  if lista[indice].find('span')['class'][0] == 'icon-Caret-down':\n",
    "    tendencia = 'baja'\n",
    "  else:\n",
    "    tendencia = 'alta'"
   ]
  },
  {
   "cell_type": "code",
   "execution_count": 12,
   "id": "dd8ead12-5102-469d-a405-d73d24b59473",
   "metadata": {},
   "outputs": [],
   "source": [
    "import requests\n",
    "from bs4 import BeautifulSoup\n",
    "\n",
    "def extraer_tendencias():\n",
    "    url = \"https://coinmarketcap.com/currencies/bitcoin/\"\n",
    "    headers = {'User-Agent': 'Mozilla/5.0 (Macintosh; Intel Mac OS X 10_15_7) AppleWebKit/537.36 (KHTML, like Gecko) Chrome/111.0.0.0 Safari/537.36'}\n",
    "\n",
    "    try:\n",
    "        # Hacer la solicitud a la página de CoinMarketCap\n",
    "        page = requests.get(url, headers=headers)\n",
    "        page.raise_for_status()  # Verifica que la solicitud fue exitosa\n",
    "\n",
    "        # Parsear el contenido HTML de la página\n",
    "        soup = BeautifulSoup(page.content, 'html.parser')\n",
    "\n",
    "        # 1. Extraer el precio actual de Bitcoin\n",
    "        precio_tag = soup.find(\"span\", {\"data-test\": \"text-cdp-price-display\"})\n",
    "        if precio_tag:\n",
    "            precio_actual = float(precio_tag.text.replace('$', '').replace(',', ''))\n",
    "        else:\n",
    "            precio_actual = None\n",
    "        \n",
    "        # 2. Extraer la tendencia\n",
    "        tendencia_tag = soup.find(\"p\", {\"color\": True, \"data-change\": True})\n",
    "        if tendencia_tag:\n",
    "            color = tendencia_tag['color']\n",
    "            if color == \"green\":\n",
    "                tendencia = 'alta'  # Tendencia alcista\n",
    "            elif color == \"red\":\n",
    "                tendencia = 'baja'  # Tendencia bajista\n",
    "            else:\n",
    "                tendencia = None\n",
    "        else:\n",
    "            tendencia = None\n",
    "\n",
    "        # 3. Extraer la variación porcentual\n",
    "        if tendencia_tag:\n",
    "            # Extraer solo el valor del porcentaje\n",
    "            variacion_text = tendencia_tag.text.split()[0]  # Tomar solo la primera parte (el número)\n",
    "            variacion = float(variacion_text.replace('%', '').replace('\\xa0', '').strip())\n",
    "        else:\n",
    "            variacion = None\n",
    "\n",
    "        # Retornar el precio actual, variación y tendencia\n",
    "        return precio_actual, variacion, tendencia\n",
    "\n",
    "    except requests.exceptions.RequestException as e:\n",
    "        print(f\"Error al realizar la solicitud: {e}\")\n",
    "        return None, None, None\n"
   ]
  },
  {
   "cell_type": "code",
   "execution_count": 13,
   "id": "53370d92-18e6-438b-b0df-d395e22f012b",
   "metadata": {},
   "outputs": [
    {
     "name": "stdout",
     "output_type": "stream",
     "text": [
      "Precio actual del Bitcoin: 63126.26\n",
      "Variación: 0.38%\n",
      "Tendencia: alta\n"
     ]
    }
   ],
   "source": [
    "# Llamar a la función para obtener el precio y la tendencia\n",
    "precio_actual, variacion, tendencia = extraer_tendencias()\n",
    "\n",
    "# Mostrar los resultados\n",
    "print(f\"Precio actual del Bitcoin: {precio_actual}\")\n",
    "print(f\"Variación: {variacion}%\")\n",
    "print(f\"Tendencia: {tendencia}\")\n"
   ]
  },
  {
   "cell_type": "code",
   "execution_count": null,
   "id": "f36b1bb2-01c3-442d-9c3e-29abc74cdb33",
   "metadata": {},
   "outputs": [],
   "source": []
  }
 ],
 "metadata": {
  "kernelspec": {
   "display_name": "Python 3 (ipykernel)",
   "language": "python",
   "name": "python3"
  },
  "language_info": {
   "codemirror_mode": {
    "name": "ipython",
    "version": 3
   },
   "file_extension": ".py",
   "mimetype": "text/x-python",
   "name": "python",
   "nbconvert_exporter": "python",
   "pygments_lexer": "ipython3",
   "version": "3.12.5"
  }
 },
 "nbformat": 4,
 "nbformat_minor": 5
}
